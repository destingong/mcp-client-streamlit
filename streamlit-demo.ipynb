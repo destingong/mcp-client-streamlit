{
 "cells": [
  {
   "cell_type": "markdown",
   "id": "886a2c29-5654-443d-8514-e853957e0803",
   "metadata": {},
   "source": [
    "# Launching Streamlit App\n",
    "* reference: https://aws.amazon.com/blogs/machine-learning/build-streamlit-apps-in-amazon-sagemaker-studio/\n",
    "* URL: https://gcas00n2qbs8svm.studio.us-east-1.sagemaker.aws/jupyterlab/default/proxy/8501/"
   ]
  },
  {
   "cell_type": "code",
   "execution_count": 1,
   "id": "b9aee76f-9455-4b93-925d-51078a9f8d71",
   "metadata": {
    "execution": {
     "iopub.execute_input": "2025-07-05T09:17:10.083713Z",
     "iopub.status.busy": "2025-07-05T09:17:10.083322Z",
     "iopub.status.idle": "2025-07-05T09:17:13.821050Z",
     "shell.execute_reply": "2025-07-05T09:17:13.820125Z",
     "shell.execute_reply.started": "2025-07-05T09:17:10.083688Z"
    }
   },
   "outputs": [],
   "source": [
    "!pip install streamlit --q"
   ]
  },
  {
   "cell_type": "code",
   "execution_count": 4,
   "id": "ebf11733-4211-489b-9209-08e9869787cb",
   "metadata": {
    "execution": {
     "iopub.execute_input": "2025-07-05T09:39:20.627361Z",
     "iopub.status.busy": "2025-07-05T09:39:20.626794Z",
     "iopub.status.idle": "2025-07-05T09:39:22.191726Z",
     "shell.execute_reply": "2025-07-05T09:39:22.190826Z",
     "shell.execute_reply.started": "2025-07-05T09:39:20.627300Z"
    }
   },
   "outputs": [],
   "source": [
    "!pip install openai --q"
   ]
  },
  {
   "cell_type": "code",
   "execution_count": null,
   "id": "2ada554b-0954-4188-8413-d7ae839b2b79",
   "metadata": {},
   "outputs": [],
   "source": [
    "!streamlit run app.py --server.runOnSave true"
   ]
  },
  {
   "cell_type": "code",
   "execution_count": 4,
   "id": "e0efb060-f2a2-4411-ab79-7d50b41cac66",
   "metadata": {},
   "outputs": [
    {
     "name": "stdout",
     "output_type": "stream",
     "text": [
      "\n",
      "Collecting usage statistics. To deactivate, set browser.gatherUsageStats to false.\n",
      "\u001b[0m\n",
      "\u001b[0m\n",
      "\u001b[34m\u001b[1m  You can now view your Streamlit app in your browser.\u001b[0m\n",
      "\u001b[0m\n",
      "\u001b[34m  Local URL: \u001b[0m\u001b[1mhttp://localhost:8501\u001b[0m\n",
      "\u001b[34m  Network URL: \u001b[0m\u001b[1mhttp://169.255.255.2:8501\u001b[0m\n",
      "\u001b[34m  External URL: \u001b[0m\u001b[1mhttp://35.170.135.114:8501\u001b[0m\n",
      "\u001b[0m\n",
      "^C\n",
      "\u001b[34m  Stopping...\u001b[0m\n"
     ]
    }
   ],
   "source": [
    "!streamlit run app.py"
   ]
  },
  {
   "cell_type": "code",
   "execution_count": 6,
   "id": "bf45e727-0c1c-48e6-93f4-7ead1efda2b2",
   "metadata": {
    "execution": {
     "iopub.execute_input": "2025-07-03T09:49:02.751378Z",
     "iopub.status.busy": "2025-07-03T09:49:02.750082Z",
     "iopub.status.idle": "2025-07-03T09:49:03.056074Z",
     "shell.execute_reply": "2025-07-03T09:49:03.051828Z",
     "shell.execute_reply.started": "2025-07-03T09:49:02.751330Z"
    }
   },
   "outputs": [
    {
     "name": "stdout",
     "output_type": "stream",
     "text": [
      "Processes running from streamlit:\n",
      "Killing all processes running from streamlit\n",
      "rm: cannot remove 'temp.txt': No such file or directory\n"
     ]
    }
   ],
   "source": [
    "!bash cleanup.sh"
   ]
  },
  {
   "cell_type": "code",
   "execution_count": null,
   "id": "182449f4-f1b3-4a90-a418-e285a94d4039",
   "metadata": {},
   "outputs": [],
   "source": []
  }
 ],
 "metadata": {
  "kernelspec": {
   "display_name": "Python 3 (ipykernel)",
   "language": "python",
   "name": "python3"
  },
  "language_info": {
   "codemirror_mode": {
    "name": "ipython",
    "version": 3
   },
   "file_extension": ".py",
   "mimetype": "text/x-python",
   "name": "python",
   "nbconvert_exporter": "python",
   "pygments_lexer": "ipython3",
   "version": "3.11.11"
  }
 },
 "nbformat": 4,
 "nbformat_minor": 5
}
